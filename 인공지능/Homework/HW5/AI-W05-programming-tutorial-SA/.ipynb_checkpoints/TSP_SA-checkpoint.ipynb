{
 "cells": [
  {
   "cell_type": "markdown",
   "metadata": {},
   "source": [
    "<hr style=\"border:2px solid gray\"> </hr>\n",
    "\n",
    "# Homework 1 - Traveling Salesman Problem\n",
    "\n",
    "## Example Code\n",
    "\n",
    "### Algorithm 3: Simulated Annealing\n",
    "\n",
    "### Author: Wangduk Seo (CAU AI Lab)\n",
    "<hr style=\"border:2px solid gray\"> </hr>"
   ]
  },
  {
   "cell_type": "markdown",
   "metadata": {},
   "source": [
    "# Step 0. Importing packages and Global Settings"
   ]
  },
  {
   "cell_type": "code",
   "execution_count": 1,
   "metadata": {},
   "outputs": [],
   "source": [
    "# package list\n",
    "import tkinter as tk\n",
    "from tkinter import filedialog\n",
    "import numpy as np\n",
    "import sys\n",
    "from sklearn.metrics.pairwise import euclidean_distances\n",
    "import matplotlib.pyplot as plt\n",
    "import time\n",
    "\n",
    "# Global Variables\n",
    "# Simulated Annealing\n",
    "TEMPERATURE = 100000\n",
    "COOLING_RATIO = 0.90\n",
    "SUB_STEPS = 500\n",
    "np.random.seed(0)\n",
    "\n",
    "# Plot Settings\n",
    "PLOT_MODE = True # Draw Route\n",
    "PLT_INTERVAL = 100 # Draw Route every 100 iterations\n",
    "plt.ion()\n",
    "\n",
    "# First City Index\n",
    "FIRST_IDX = 0"
   ]
  },
  {
   "cell_type": "markdown",
   "metadata": {},
   "source": [
    "# Step 1. Data Loading"
   ]
  },
  {
   "cell_type": "code",
   "execution_count": 2,
   "metadata": {},
   "outputs": [],
   "source": [
    "def fileloader():\n",
    "    # Data loading\n",
    "    root = tk.Tk()\n",
    "    root.withdraw()\n",
    "\n",
    "    file_path = filedialog.askopenfilename()\n",
    "    if file_path == '':\n",
    "        raise Exception('Cannot load a data file')\n",
    "    root.destroy()\n",
    "    #     Data Format\n",
    "    #     ---------------------------------------------------------\n",
    "    #     NAME : pia3056\n",
    "    #     COMMENT : Bonn VLSI data set with 3056 points\n",
    "    #     COMMENT : Uni Bonn, Research Institute for Discrete Math\n",
    "    #     COMMENT : Contributed by Andre Rohe\n",
    "    #     TYPE : TSP\n",
    "    #     DIMENSION : 3056 -----------------------------|\n",
    "    #     EDGE_WEIGHT_TYPE : EUC_2D                     |\n",
    "    #     NODE_COORD_SECTION                            |\n",
    "    #     1 0 11 (2 dimentional coordinate of city)     |\n",
    "    #     2 0 115                                       |\n",
    "    #     ...                                           |\n",
    "    #     ...(Total 3056 nodes)<------------------------|\n",
    "    #     EOF\n",
    "    #     ---------------------------------------------------------\n",
    "    with open(file_path, \"r\") as file:\n",
    "        file_str = file.readlines()\n",
    "\n",
    "    # Get the coordinates of cities\n",
    "    coord_str = file_str[8:-1]  # first city string to last city string (EOF 전까지)\n",
    "    coord_list = np.zeros((len(coord_str), 2))\n",
    "    for idx, item in enumerate(coord_str):\n",
    "        coord_split = item.split()\n",
    "        coord_list[idx, 0] = int(coord_split[1])\n",
    "        coord_list[idx, 1] = int(coord_split[2])\n",
    "\n",
    "    return coord_list"
   ]
  },
  {
   "cell_type": "markdown",
   "metadata": {},
   "source": [
    "# Step 2. Initialization"
   ]
  },
  {
   "cell_type": "code",
   "execution_count": 3,
   "metadata": {},
   "outputs": [],
   "source": [
    "def initialize_greedy(coord_list, first_idx):\n",
    "    cnt_cities = len(coord_list)\n",
    "    # Initialize path and insert first city index to the first and last elements\n",
    "    path = np.zeros(cnt_cities + 1, dtype=np.int)\n",
    "    path[0], path[-1] = first_idx, first_idx\n",
    "\n",
    "    # Euclidean distance map between cities\n",
    "    path_map = euclidean_distances(coord_list, coord_list)\n",
    "\n",
    "    cities_tovisit = np.ones((cnt_cities), dtype=np.bool)\n",
    "    cities_tovisit[first_idx] = False\n",
    "\n",
    "    # Iteratively Connect nearest cities\n",
    "    for i in range(1, cnt_cities):\n",
    "        start_idx = path[i - 1]\n",
    "        distance_from_start = path_map[start_idx, :]\n",
    "        nearest_list = np.argsort(distance_from_start)\n",
    "        for idx in range(len(nearest_list)):\n",
    "            # check the nearest city is visited\n",
    "            if cities_tovisit[nearest_list[idx]]:\n",
    "                nearest_city = nearest_list[idx]\n",
    "                break\n",
    "        cities_tovisit[nearest_city] = False\n",
    "        path[i] = nearest_city\n",
    "\n",
    "    return path_map, path\n",
    "\n",
    "\n",
    "def initialize_random(coord_list, first_idx):\n",
    "    cnt_cities = len(coord_list)\n",
    "    path = np.zeros(cnt_cities + 1, dtype=np.int)\n",
    "\n",
    "    path[0], path[-1] = first_idx, first_idx\n",
    "    # Euclidean distance map between cities\n",
    "    path_map = euclidean_distances(coord_list, coord_list)\n",
    "\n",
    "    # city indices without first city index\n",
    "    cities_tovisit = np.delete(np.arange(cnt_cities), first_idx)\n",
    "    cities_random = np.random.permutation(cities_tovisit)\n",
    "    path[1:-1] = cities_random\n",
    "\n",
    "    return path_map, path\n",
    "\n",
    "def path_cost(path_map, path):\n",
    "    # The array of cost between cities in the path\n",
    "    cnt_cities = path_map.shape[0]\n",
    "    cost_arr = np.zeros(cnt_cities)\n",
    "    for i in range(cnt_cities):\n",
    "        cost_arr[i] = path_map[path[i], path[i+1]]\n",
    "\n",
    "    return cost_arr"
   ]
  },
  {
   "cell_type": "markdown",
   "metadata": {},
   "source": [
    "# Step 3. Searching a path\n",
    "\n",
    "## Algorithm 3. SA (2-opt search)"
   ]
  },
  {
   "cell_type": "code",
   "execution_count": 4,
   "metadata": {
    "scrolled": true
   },
   "outputs": [],
   "source": [
    "def two_opt_swap(path_map, path, steps):\n",
    "    cnt_cities = path_map.shape[0]\n",
    "    best_cost = float('inf')\n",
    "    for i in range(steps):\n",
    "        curr_path = path.copy()\n",
    "        # Select two indices for flip points\n",
    "        sel_idx = np.sort(np.random.choice(np.arange(1, cnt_cities + 1), 2))\n",
    "        if sel_idx[1] - sel_idx[0] <= 1:\n",
    "            continue\n",
    "        # Path Flip and update cost array\n",
    "        curr_path[sel_idx[0]:sel_idx[1]] = np.flip(curr_path[sel_idx[0]: sel_idx[1]])\n",
    "        cost_arr = path_cost(path_map, curr_path)\n",
    "        curr_cost = cost_arr.sum()\n",
    "        if curr_cost < best_cost:\n",
    "            best_path = curr_path.copy()\n",
    "            best_cost = curr_cost\n",
    "\n",
    "    return best_path, best_cost"
   ]
  },
  {
   "cell_type": "code",
   "execution_count": 5,
   "metadata": {},
   "outputs": [],
   "source": [
    "def simulated_annealing(path_map, path):\n",
    "    best_path = path.copy()\n",
    "    best_cost = path_cost(path_map, best_path).sum()\n",
    "\n",
    "    global TEMPERATURE\n",
    "    while TEMPERATURE > 1:\n",
    "        curr_path = best_path.copy()\n",
    "        new_path, new_cost = two_opt_swap(path_map, curr_path, SUB_STEPS)\n",
    "\n",
    "        if new_cost < best_cost:\n",
    "            best_path = new_path\n",
    "            best_cost = new_cost\n",
    "        else:\n",
    "            prob = np.exp(-(new_cost - best_cost) / float(TEMPERATURE))\n",
    "            #print(np.random.rand(1))\n",
    "            #if prob > np.random.rand(1):\n",
    "            if prob > 0.7:\n",
    "                best_path = new_path\n",
    "                best_cost = new_cost\n",
    "            TEMPERATURE = TEMPERATURE * COOLING_RATIO\n",
    "\n",
    "    return best_path, best_cost"
   ]
  },
  {
   "cell_type": "markdown",
   "metadata": {},
   "source": [
    "# Main"
   ]
  },
  {
   "cell_type": "code",
   "execution_count": 6,
   "metadata": {},
   "outputs": [
    {
     "name": "stdout",
     "output_type": "stream",
     "text": [
      "Execution Time: 44.90754961967468\n",
      "Path: [0, 5, 14, 16, 15, 13, 11, 4, 12, 17, 24, 25, 18, 26, 27, 28, 19, 29, 30, 31, 32, 20, 33, 34, 35, 21, 22, 39, 38, 37, 36, 51, 50, 49, 48, 47, 46, 54, 53, 45, 44, 52, 73, 88, 92, 97, 111, 122, 129, 120, 117, 113, 123, 104, 99, 100, 101, 105, 106, 112, 107, 108, 114, 118, 125, 124, 130, 126, 127, 128, 121, 116, 119, 115, 109, 110, 102, 103, 96, 95, 94, 90, 89, 72, 71, 79, 85, 84, 83, 82, 78, 87, 93, 98, 91, 86, 81, 80, 77, 76, 67, 63, 74, 61, 64, 68, 65, 69, 70, 75, 66, 62, 55, 56, 57, 58, 59, 60, 43, 42, 40, 41, 23, 10, 3, 9, 8, 2, 1, 7, 6, 0]\n",
      "Cost: 603.5717998323032\n"
     ]
    },
    {
     "data": {
      "image/png": "[encoded data removed]",
      "text/plain": [
       "<Figure size 432x288 with 1 Axes>"
      ]
     },
     "metadata": {
      "needs_background": "light"
     },
     "output_type": "display_data"
    }
   ],
   "source": [
    "# Initialization ###############\n",
    "initialize = initialize_greedy\n",
    "#initialize = initialize_random\n",
    "################################\n",
    "\n",
    "# Step 1\n",
    "try:\n",
    "    coord_list = fileloader()\n",
    "except Exception as e:\n",
    "    print('예외 발생', e)\n",
    "    sys.exit()\n",
    "\n",
    "start_time = time.time()\n",
    "# Step 2\n",
    "path_map, path = initialize(coord_list, FIRST_IDX)\n",
    "\n",
    "# Step 3\n",
    "best_path, best_cost = simulated_annealing(path_map, path)\n",
    "\n",
    "if PLOT_MODE:\n",
    "    figure, ax = plt.subplots()\n",
    "    plt.scatter(coord_list[:, 0], coord_list[:, 1], c='yellow', s=10)\n",
    "    plt.title('City Route')\n",
    "    coord_path = coord_list\n",
    "    coord_path = np.append(coord_path, coord_path[best_path[0], :].reshape(1, 2), axis=0)\n",
    "    coord_path[:, :] = coord_path[best_path, :]\n",
    "    lines, = ax.plot(coord_path[:, 0], coord_path[:, 1], 'k--')\n",
    "    figure.canvas.draw()\n",
    "\n",
    "print('Execution Time: ' + str(time.time() - start_time))\n",
    "print('Path: ' + str(best_path.tolist()))\n",
    "print('Cost: ' + str(best_cost))"
   ]
  },
  {
   "cell_type": "code",
   "execution_count": null,
   "metadata": {},
   "outputs": [],
   "source": []
  }
 ],
 "metadata": {
  "kernelspec": {
   "display_name": "Python 3",
   "language": "python",
   "name": "python3"
  },
  "language_info": {
   "codemirror_mode": {
    "name": "ipython",
    "version": 3
   },
   "file_extension": ".py",
   "mimetype": "text/x-python",
   "name": "python",
   "nbconvert_exporter": "python",
   "pygments_lexer": "ipython3",
   "version": "3.7.6"
  }
 },
 "nbformat": 4,
 "nbformat_minor": 4
}
