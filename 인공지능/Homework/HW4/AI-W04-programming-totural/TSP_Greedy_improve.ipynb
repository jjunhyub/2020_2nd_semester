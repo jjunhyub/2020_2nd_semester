{
 "cells": [
  {
   "cell_type": "markdown",
   "metadata": {},
   "source": [
    "<hr style=\"border:2px solid gray\"> </hr>\n",
    "\n",
    "# Homework 1 - Traveling Salesman Problem\n",
    "\n",
    "## Example Code\n",
    "\n",
    "### Algorithm 1: Greedy\n",
    "\n",
    "### Author: Wangduk Seo (CAU AI Lab)\n",
    "<hr style=\"border:2px solid gray\"> </hr>"
   ]
  },
  {
   "cell_type": "markdown",
   "metadata": {},
   "source": [
    "# Step 0. Importing packages and Global Settings"
   ]
  },
  {
   "cell_type": "code",
   "execution_count": 1,
   "metadata": {},
   "outputs": [],
   "source": [
    "# package list\n",
    "import tkinter as tk\n",
    "from tkinter import filedialog\n",
    "import numpy as np\n",
    "import sys\n",
    "from sklearn.metrics.pairwise import euclidean_distances\n",
    "import matplotlib.pyplot as plt\n",
    "import time\n",
    "\n",
    "# Global Variables\n",
    "# Hill Climbing\n",
    "SUB_ITERATIONS = 2000 # Iteration of 2-opt search in each evaluation\n",
    "MAX_EVALUATION = 20 # Max hill climbing iterations\n",
    "\n",
    "# Plot Settings\n",
    "PLOT_MODE = True # Draw Route\n",
    "PLT_INTERVAL = 100 # Draw Route every 100 iterations\n",
    "plt.ion()\n",
    "%matplotlib qt \n",
    "\n",
    "# First City Index\n",
    "FIRST_IDX = 0"
   ]
  },
  {
   "cell_type": "markdown",
   "metadata": {},
   "source": [
    "# Step 1. Data Loading"
   ]
  },
  {
   "cell_type": "code",
   "execution_count": 2,
   "metadata": {},
   "outputs": [],
   "source": [
    "def fileloader():\n",
    "    # Data loading\n",
    "    root = tk.Tk()\n",
    "    root.withdraw()\n",
    "\n",
    "    file_path = filedialog.askopenfilename()\n",
    "    if file_path == '':\n",
    "        raise Exception('Cannot load a data file')\n",
    "    root.destroy()\n",
    "    #     Data Format\n",
    "    #     ---------------------------------------------------------\n",
    "    #     NAME : pia3056\n",
    "    #     COMMENT : Bonn VLSI data set with 3056 points\n",
    "    #     COMMENT : Uni Bonn, Research Institute for Discrete Math\n",
    "    #     COMMENT : Contributed by Andre Rohe\n",
    "    #     TYPE : TSP\n",
    "    #     DIMENSION : 3056 -----------------------------|\n",
    "    #     EDGE_WEIGHT_TYPE : EUC_2D                     |\n",
    "    #     NODE_COORD_SECTION                            |\n",
    "    #     1 0 11 (2 dimentional coordinate of city)     |\n",
    "    #     2 0 115                                       |\n",
    "    #     ...                                           |\n",
    "    #     ...(Total 3056 nodes)<------------------------|\n",
    "    #     EOF\n",
    "    #     ---------------------------------------------------------\n",
    "    with open(file_path, \"r\") as file:\n",
    "        file_str = file.readlines()\n",
    "\n",
    "    # Get the coordinates of cities\n",
    "    coord_str = file_str[8:-1]  # first city string to last city string (EOF 전까지)\n",
    "    coord_list = np.zeros((len(coord_str), 2))\n",
    "    for idx, item in enumerate(coord_str):\n",
    "        coord_split = item.split()\n",
    "        coord_list[idx, 0] = int(coord_split[1])\n",
    "        coord_list[idx, 1] = int(coord_split[2])\n",
    "\n",
    "    return coord_list"
   ]
  },
  {
   "cell_type": "markdown",
   "metadata": {},
   "source": [
    "# Step 2. Searching a path\n",
    "## Algorithm 1. Greedy Algorithm"
   ]
  },
  {
   "cell_type": "code",
   "execution_count": 3,
   "metadata": {},
   "outputs": [],
   "source": [
    "def path_cost(path_map, path):\n",
    "    # The array of cost between cities in the path\n",
    "    cnt_cities = path_map.shape[0]\n",
    "    cost_arr = np.zeros(cnt_cities)\n",
    "    for i in range(cnt_cities):\n",
    "        cost_arr[i] = path_map[path[i], path[i+1]]\n",
    "\n",
    "    return cost_arr\n",
    "\n",
    "def greedy(coord_list):\n",
    "    cnt_cities = len(coord_list)\n",
    "    # Initialize path and insert first city index to the first and last elements\n",
    "    best_path = np.zeros(cnt_cities + 1, dtype=np.int)\n",
    "    best_path[0], best_path[-1] = FIRST_IDX, FIRST_IDX\n",
    "\n",
    "    # Euclidean distance map between cities\n",
    "    path_map = euclidean_distances(coord_list, coord_list)\n",
    "    \n",
    "    cities_tovisit = np.ones((cnt_cities), dtype=np.bool)\n",
    "    cities_tovisit[FIRST_IDX] = False\n",
    "    current_cost = 0;\n",
    "\n",
    "    # Iteratively Connect nearest cities\n",
    "    for i in range(1, cnt_cities, 2):\n",
    "        start_idx = best_path[i - 1]\n",
    "        if i==(cnt_cities-1):\n",
    "            distance_from_start = path_map[start_idx, :]\n",
    "            nearest_list = np.argsort(distance_from_start)\n",
    "            for idx in range(cnt_cities):\n",
    "                # check the nearest city is visited\n",
    "                if cities_tovisit[nearest_list[idx]]:\n",
    "                    nearest_city = nearest_list[idx]\n",
    "                    break\n",
    "            cities_tovisit[nearest_city] = False\n",
    "            best_path[i] = nearest_city            \n",
    "        else:\n",
    "            distance_from_start = path_map[start_idx, :]\n",
    "            nearest_list = np.argsort(distance_from_start)\n",
    "            for idx1 in range(cnt_cities):\n",
    "                if cities_tovisit[nearest_list[idx1]]:\n",
    "                    nearest_city = nearest_list[idx1]\n",
    "                    distance_from_nextcity = path_map[nearest_city,:];\n",
    "                    nearest_list_nextcity= np.argsort(distance_from_nextcity)\n",
    "                    cities_tovisit[nearest_city] = False\n",
    "                    for idx2 in range(cnt_cities):\n",
    "                        if cities_tovisit[nearest_list_nextcity[idx2]]:\n",
    "                            nearest_city2 = nearest_list_nextcity[idx2]\n",
    "                            distance_from_start[nearest_city]+=distance_from_nextcity[nearest_city2]\n",
    "                            break\n",
    "                    cities_tovisit[nearest_city] = True\n",
    "            \n",
    "            nearest_list = np.argsort(distance_from_start)\n",
    "            temp=0\n",
    "            for idx1 in range(cnt_cities):\n",
    "                # check the nearest city is visited\n",
    "                if cities_tovisit[nearest_list[idx1]]:\n",
    "                    nearest_city = nearest_list[idx1]\n",
    "                    distance_from_nextcity = path_map[nearest_city,:];\n",
    "                    nearest_list_nextcity = np.argsort(distance_from_nextcity)\n",
    "                    cities_tovisit[nearest_city] = False\n",
    "                    best_path[i] = nearest_city\n",
    "                    for idx2 in range(cnt_cities):\n",
    "                        if cities_tovisit[nearest_list_nextcity[idx2]]:\n",
    "                            nearest_city2 = nearest_list_nextcity[idx2]\n",
    "                            cities_tovisit[nearest_city2] = False\n",
    "                            best_path[i+1] = nearest_city2\n",
    "                            temp=1\n",
    "                            break\n",
    "                    if temp==1:\n",
    "                        break\n",
    "\n",
    "        \n",
    "    \n",
    "        \n",
    "    cost_arr = path_cost(path_map, best_path)\n",
    "    best_cost = cost_arr.sum()\n",
    "    \n",
    "    # Draw Route\n",
    "    if PLOT_MODE:\n",
    "        plt.close()\n",
    "        figure, ax = plt.subplots()\n",
    "        plt.scatter(coord_list[:, 0], coord_list[:, 1], c='yellow', s=10)\n",
    "        plt.title('City Route')\n",
    "        coord_path = coord_list\n",
    "        coord_path = np.append(coord_path, coord_path[best_path[0], :].reshape(1, 2), axis=0)\n",
    "        coord_path[:, :] = coord_path[best_path, :]\n",
    "        lines, = ax.plot(coord_path[:, 0], coord_path[:, 1], 'k--')\n",
    "        figure.canvas.draw()\n",
    "        figure.canvas.flush_events()\n",
    "    \n",
    "    return best_path, best_cost"
   ]
  },
  {
   "cell_type": "markdown",
   "metadata": {},
   "source": [
    "# Main"
   ]
  },
  {
   "cell_type": "code",
   "execution_count": 4,
   "metadata": {
    "scrolled": false
   },
   "outputs": [
    {
     "name": "stdout",
     "output_type": "stream",
     "text": [
      "Execution Time: 119.09821057319641\n",
      "Path: [0, 2, 3, 4, 5, 6, 7, 8, 9, 10, 11, 12, 13, 14, 15, 16, 17, 41, 40, 53, 57, 56, 52, 51, 55, 54, 50, 60, 61, 62, 63, 76, 77, 119, 118, 117, 116, 115, 114, 113, 112, 111, 110, 109, 108, 154, 163, 164, 158, 155, 144, 120, 121, 122, 123, 124, 147, 146, 145, 156, 161, 160, 166, 165, 159, 175, 176, 182, 181, 180, 179, 222, 223, 279, 333, 359, 394, 361, 334, 312, 313, 335, 362, 363, 336, 314, 282, 228, 229, 230, 231, 232, 233, 234, 284, 285, 286, 287, 235, 367, 366, 397, 398, 399, 406, 478, 479, 534, 533, 568, 603, 654, 653, 652, 602, 601, 651, 680, 703, 679, 702, 678, 701, 727, 726, 725, 699, 698, 724, 723, 697, 696, 676, 675, 721, 674, 720, 673, 719, 718, 694, 672, 671, 693, 717, 716, 692, 670, 669, 715, 751, 782, 781, 779, 819, 818, 817, 816, 815, 772, 773, 771, 770, 743, 744, 664, 665, 663, 662, 624, 623, 622, 621, 620, 619, 685, 708, 741, 742, 686, 660, 749, 769, 814, 813, 812, 811, 810, 809, 808, 807, 766, 767, 735, 705, 704, 734, 681, 682, 706, 736, 737, 707, 683, 658, 611, 612, 613, 614, 615, 616, 617, 659, 610, 609, 608, 607, 656, 657, 655, 606, 605, 645, 677, 695, 668, 710, 687, 740, 661, 638, 729, 754, 750, 780, 835, 870, 876, 882, 889, 890, 924, 925, 891, 892, 926, 927, 893, 894, 928, 930, 895, 896, 931, 932, 897, 880, 898, 899, 933, 934, 935, 936, 900, 881, 901, 902, 883, 884, 903, 904, 885, 886, 905, 906, 887, 856, 847, 840, 857, 858, 848, 841, 842, 849, 859, 822, 789, 790, 791, 792, 793, 794, 795, 796, 797, 824, 843, 850, 860, 861, 862, 851, 844, 869, 863, 852, 845, 838, 853, 864, 865, 854, 855, 846, 866, 875, 874, 873, 872, 871, 879, 878, 911, 910, 909, 908, 912, 913, 914, 915, 916, 917, 918, 919, 920, 940, 948, 954, 949, 955, 950, 961, 970, 969, 968, 964, 947, 960, 959, 953, 952, 958, 957, 951, 965, 966, 976, 975, 974, 985, 1018, 1017, 1016, 1015, 1014, 1013, 1012, 1011, 1010, 1071, 1107, 1133, 1106, 1132, 1105, 1104, 1131, 1156, 1155, 1130, 1103, 1068, 1007, 1008, 1009, 1069, 1006, 1067, 1005, 1004, 1003, 1002, 1001, 1000, 999, 1064, 1063, 1062, 1061, 1100, 1099, 1059, 1058, 1057, 1056, 1055, 1054, 1053, 1052, 1096, 1125, 1148, 1147, 1181, 1124, 1182, 1183, 1149, 1126, 1097, 1098, 1184, 1199, 1200, 1185, 1150, 1151, 1186, 1152, 1129, 1102, 1128, 1101, 1065, 1066, 1153, 1154, 1189, 1220, 1219, 1218, 1217, 1216, 1215, 1214, 1213, 1212, 1211, 1210, 1209, 1270, 1269, 1268, 1302, 1327, 1350, 1349, 1383, 1326, 1384, 1351, 1303, 1304, 1329, 1330, 1353, 1354, 1331, 1306, 1305, 1272, 1273, 1274, 1221, 1222, 1223, 1276, 1277, 1278, 1224, 1225, 1226, 1227, 1228, 1280, 1281, 1282, 1283, 1230, 1231, 1232, 1233, 1234, 1235, 1236, 1237, 1238, 1239, 1240, 1241, 1242, 1243, 1244, 1245, 1246, 1247, 1248, 1292, 1318, 1342, 1371, 1369, 1341, 1317, 1316, 1340, 1339, 1367, 1366, 1338, 1396, 1397, 1368, 1289, 1288, 1287, 1315, 1364, 1363, 1337, 1313, 1285, 1312, 1336, 1362, 1361, 1335, 1311, 1385, 1360, 1359, 1333, 1332, 1358, 1309, 1310, 1392, 1391, 1390, 1389, 1355, 1307, 1356, 1357, 1414, 1413, 1415, 1416, 1417, 1459, 1460, 1418, 1419, 1420, 1421, 1422, 1423, 1424, 1425, 1426, 1427, 1428, 1429, 1462, 1493, 1509, 1494, 1510, 1495, 1511, 1496, 1526, 1549, 1548, 1525, 1547, 1524, 1492, 1491, 1523, 1521, 1508, 1490, 1461, 1545, 1544, 1543, 1520, 1489, 1519, 1518, 1507, 1488, 1486, 1485, 1506, 1516, 1517, 1456, 1407, 1408, 1409, 1410, 1411, 1412, 1458, 1406, 1455, 1515, 1569, 1568, 1567, 1536, 1504, 1451, 1452, 1453, 1454, 1450, 1481, 1480, 1479, 1478, 1477, 1476, 1475, 1474, 1449, 1448, 1447, 1446, 1445, 1444, 1443, 1442, 1441, 1440, 1439, 1438, 1472, 1471, 1470, 1437, 1434, 1457, 1482, 1503, 1514, 1505, 1487, 1522, 1541, 1564, 1502, 1529, 1530, 1557, 1558, 1531, 1498, 1499, 1512, 1532, 1533, 1534, 1513, 1501, 1535, 1539, 1540, 1561, 1562, 1563, 1565, 1566, 1484, 1404, 1380, 1381, 1298, 1299, 1300, 1348, 1382, 1267, 1203, 1205, 1127, 997, 996, 978, 995, 994, 993, 992, 991, 1050, 1049, 1048, 1047, 1089, 1090, 1123, 1146, 1145, 1176, 1122, 1178, 1197, 1188, 1121, 1175, 1174, 1144, 1143, 1119, 1118, 1142, 1172, 1173, 1120, 1087, 1040, 1041, 1042, 1043, 1044, 1045, 1046, 1088, 1039, 1038, 1037, 1085, 1084, 1083, 1171, 1169, 1206, 1204, 1198, 1177, 1092, 1060, 1022, 986, 987, 988, 989, 990, 1091, 1051, 1093, 1094, 1180, 1179, 1208, 1266, 1265, 1264, 1263, 1262, 1261, 1260, 1259, 1258, 1257, 1256, 1255, 1254, 1253, 1252, 1251, 1250, 1286, 1314, 1334, 1308, 1328, 1325, 1301, 1275, 1388, 1399, 1394, 1370, 1373, 1319, 1320, 1343, 1374, 1375, 1344, 1321, 1322, 1345, 1346, 1377, 1378, 1347, 1324, 1323, 1295, 1294, 1296, 1297, 1376, 1293, 1398, 1473, 1500, 1560, 1559, 1556, 1586, 1587, 1588, 1589, 1590, 1591, 1592, 1593, 1594, 1596, 1597, 1598, 1570, 1571, 1572, 1573, 1574, 1575, 1576, 1578, 1579, 1580, 1581, 1582, 1583, 1584, 1554, 1553, 1483, 1467, 1468, 1469, 1466, 1436, 1435, 1433, 1432, 1465, 1431, 1430, 1464, 1463, 1395, 1365, 1290, 1291, 1194, 1195, 1168, 1117, 1116, 1141, 1140, 1165, 1164, 1139, 1114, 1115, 1113, 1138, 1163, 1162, 1161, 1137, 1112, 1075, 1020, 1021, 1076, 1077, 1023, 1024, 1025, 1026, 1027, 1028, 1029, 1030, 1031, 1032, 1033, 1034, 1082, 1035, 1081, 1080, 1079, 1078, 1166, 1167, 1202, 1170, 1207, 1249, 1372, 1402, 1497, 1528, 1551, 1538, 1550, 1527, 1552, 1555, 1403, 1036, 973, 972, 963, 962, 943, 944, 922, 921, 942, 941, 939, 938, 937, 946, 1019, 1074, 1111, 1136, 1135, 1159, 1158, 1134, 1109, 1110, 1160, 1187, 1073, 1072, 1108, 1157, 1191, 1190, 1070, 983, 982, 981, 980, 979, 1201, 1271, 1352, 1387, 1405, 1537, 1542, 1400, 1393, 1401, 1284, 1229, 1192, 1193, 984, 907, 877, 823, 788, 821, 820, 787, 786, 785, 784, 783, 752, 753, 755, 722, 756, 757, 758, 759, 760, 761, 762, 728, 730, 731, 764, 765, 802, 803, 804, 805, 830, 829, 801, 800, 827, 828, 799, 798, 826, 825, 763, 775, 806, 831, 832, 833, 834, 836, 837, 839, 868, 867, 888, 945, 971, 998, 777, 732, 567, 555, 554, 530, 476, 477, 434, 532, 396, 365, 315, 364, 283, 227, 226, 225, 224, 280, 177, 168, 173, 167, 148, 125, 126, 127, 128, 129, 149, 157, 162, 169, 183, 192, 170, 171, 150, 151, 152, 89, 80, 74, 73, 72, 67, 59, 58, 66, 79, 78, 71, 68, 47, 46, 45, 21, 20, 19, 18, 44, 43, 42, 65, 64, 39, 38, 87, 86, 106, 107, 105, 104, 84, 85, 82, 101, 143, 102, 142, 141, 140, 139, 98, 81, 99, 100, 36, 35, 34, 33, 32, 31, 30, 29, 28, 27, 26, 25, 1, 49, 70, 75, 83, 103, 153, 172, 178, 186, 215, 221, 281, 288, 289, 236, 237, 238, 239, 240, 291, 290, 317, 338, 337, 370, 316, 371, 401, 400, 368, 360, 383, 375, 484, 489, 540, 559, 563, 565, 531, 417, 436, 437, 438, 439, 440, 441, 442, 443, 444, 445, 446, 447, 448, 449, 450, 451, 452, 453, 454, 485, 486, 487, 504, 518, 544, 543, 560, 561, 550, 542, 503, 541, 539, 517, 502, 501, 516, 538, 500, 537, 499, 536, 535, 515, 498, 481, 556, 557, 482, 483, 402, 403, 378, 343, 322, 323, 344, 379, 380, 345, 346, 325, 381, 382, 302, 257, 256, 255, 254, 253, 252, 251, 250, 298, 299, 301, 258, 259, 260, 261, 262, 263, 264, 265, 266, 267, 305, 268, 269, 270, 206, 207, 208, 209, 210, 211, 212, 213, 214, 216, 217, 218, 219, 274, 275, 276, 277, 278, 357, 356, 355, 354, 332, 311, 310, 331, 353, 352, 330, 309, 308, 351, 350, 329, 328, 349, 306, 307, 271, 205, 185, 204, 203, 202, 184, 201, 200, 199, 297, 296, 295, 249, 248, 247, 246, 245, 244, 243, 242, 292, 319, 340, 373, 372, 339, 318, 320, 341, 342, 376, 321, 374, 293, 294, 197, 198, 196, 195, 194, 193, 131, 132, 91, 90, 92, 93, 134, 133, 135, 136, 95, 94, 96, 97, 138, 137, 303, 384, 404, 408, 463, 464, 465, 466, 467, 490, 507, 519, 547, 506, 546, 564, 628, 627, 629, 630, 631, 632, 633, 634, 571, 635, 691, 712, 748, 713, 714, 636, 637, 639, 572, 573, 574, 575, 576, 577, 578, 579, 580, 581, 582, 583, 584, 585, 586, 587, 588, 589, 590, 591, 592, 593, 594, 595, 596, 597, 598, 599, 648, 647, 646, 644, 643, 700, 649, 600, 529, 514, 513, 528, 527, 512, 496, 497, 474, 475, 431, 430, 432, 433, 429, 428, 427, 473, 426, 425, 424, 423, 422, 421, 470, 471, 495, 511, 510, 524, 523, 509, 493, 494, 525, 549, 526, 553, 642, 641, 640, 566, 552, 522, 521, 508, 492, 491, 520, 551, 468, 469, 419, 418, 416, 415, 414, 413, 389, 388, 387, 386, 348, 327, 326, 347, 385, 304, 409, 462, 461, 460, 459, 458, 457, 456, 455, 488, 505, 545, 562, 570, 625, 626, 666, 667, 689, 711, 709, 688, 745, 746, 747, 690, 774, 776, 778, 739, 684, 738, 768, 733, 569, 407, 412, 241, 377, 324, 558, 618, 548, 420, 391, 392, 393, 405, 358, 220, 190, 189, 188, 187, 272, 273, 191, 174, 410, 411, 435, 480, 369, 130, 69, 48, 23, 22, 88, 37, 390, 472, 650, 604, 967, 1279, 1546, 1585, 1379, 1196, 1086, 956, 977, 929, 923, 1386, 1595, 1577, 395, 300, 1095, 24, 0]\n",
      "Cost: 11264.2433264461\n"
     ]
    }
   ],
   "source": [
    "# Step 1\n",
    "try:\n",
    "    coord_list = fileloader()\n",
    "except Exception as e:\n",
    "    print('예외 발생', e)\n",
    "    sys.exit()\n",
    "\n",
    "start_time = time.time()\n",
    "\n",
    "# Step 2\n",
    "best_path, best_cost = greedy(coord_list)\n",
    "\n",
    "print('Execution Time: ' + str(time.time() - start_time))\n",
    "print('Path: ' + str(best_path.tolist()))\n",
    "print('Cost: ' + str(best_cost))"
   ]
  },
  {
   "cell_type": "code",
   "execution_count": null,
   "metadata": {},
   "outputs": [],
   "source": []
  }
 ],
 "metadata": {
  "kernelspec": {
   "display_name": "Python 3",
   "language": "python",
   "name": "python3"
  },
  "language_info": {
   "codemirror_mode": {
    "name": "ipython",
    "version": 3
   },
   "file_extension": ".py",
   "mimetype": "text/x-python",
   "name": "python",
   "nbconvert_exporter": "python",
   "pygments_lexer": "ipython3",
   "version": "3.7.6"
  }
 },
 "nbformat": 4,
 "nbformat_minor": 4
}
