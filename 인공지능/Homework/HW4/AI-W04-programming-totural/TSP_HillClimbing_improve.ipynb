{
 "cells": [
  {
   "cell_type": "markdown",
   "metadata": {},
   "source": [
    "<hr style=\"border:2px solid gray\"> </hr>\n",
    "\n",
    "# Homework 1 - Traveling Salesman Problem\n",
    "\n",
    "## Example Code\n",
    "\n",
    "### Algorithm 2: Hill Climbing\n",
    "\n",
    "### Author: Wangduk Seo (CAU AI Lab)\n",
    "<hr style=\"border:2px solid gray\"> </hr>"
   ]
  },
  {
   "cell_type": "markdown",
   "metadata": {},
   "source": [
    "# Step 0. Importing packages and Global Settings"
   ]
  },
  {
   "cell_type": "code",
   "execution_count": 1,
   "metadata": {},
   "outputs": [],
   "source": [
    "# package list\n",
    "import tkinter as tk\n",
    "from tkinter import filedialog\n",
    "import numpy as np\n",
    "import sys\n",
    "from sklearn.metrics.pairwise import euclidean_distances\n",
    "import matplotlib.pyplot as plt\n",
    "import time\n",
    "\n",
    "# Global Variables\n",
    "# Hill Climbing\n",
    "SUB_ITERATIONS = 2000 # Iteration of 2-opt search in each evaluation\n",
    "MAX_EVALUATION = 20 # Max hill climbing iterations\n",
    "\n",
    "# Plot Settings\n",
    "PLOT_MODE = True # Draw Route\n",
    "PLT_INTERVAL = 100 # Draw Route every 100 iterations\n",
    "plt.ion()\n",
    "%matplotlib qt \n",
    "\n",
    "# First City Index\n",
    "FIRST_IDX = 0"
   ]
  },
  {
   "cell_type": "markdown",
   "metadata": {},
   "source": [
    "# Step 1. Data Loading"
   ]
  },
  {
   "cell_type": "code",
   "execution_count": 2,
   "metadata": {},
   "outputs": [],
   "source": [
    "def fileloader():\n",
    "    # Data loading\n",
    "    root = tk.Tk()\n",
    "    root.withdraw()\n",
    "\n",
    "    file_path = filedialog.askopenfilename()\n",
    "    if file_path == '':\n",
    "        raise Exception('Cannot load a data file')\n",
    "    root.destroy()\n",
    "    #     Data Format\n",
    "    #     ---------------------------------------------------------\n",
    "    #     NAME : pia3056\n",
    "    #     COMMENT : Bonn VLSI data set with 3056 points\n",
    "    #     COMMENT : Uni Bonn, Research Institute for Discrete Math\n",
    "    #     COMMENT : Contributed by Andre Rohe\n",
    "    #     TYPE : TSP\n",
    "    #     DIMENSION : 3056 -----------------------------|\n",
    "    #     EDGE_WEIGHT_TYPE : EUC_2D                     |\n",
    "    #     NODE_COORD_SECTION                            |\n",
    "    #     1 0 11 (2 dimentional coordinate of city)     |\n",
    "    #     2 0 115                                       |\n",
    "    #     ...                                           |\n",
    "    #     ...(Total 3056 nodes)<------------------------|\n",
    "    #     EOF\n",
    "    #     ---------------------------------------------------------\n",
    "    with open(file_path, \"r\") as file:\n",
    "        file_str = file.readlines()\n",
    "\n",
    "    # Get the coordinates of cities\n",
    "    coord_str = file_str[8:-1]  # first city string to last city string (EOF 전까지)\n",
    "    coord_list = np.zeros((len(coord_str), 2))\n",
    "    for idx, item in enumerate(coord_str):\n",
    "        coord_split = item.split()\n",
    "        coord_list[idx, 0] = int(coord_split[1])\n",
    "        coord_list[idx, 1] = int(coord_split[2])\n",
    "\n",
    "    return coord_list"
   ]
  },
  {
   "cell_type": "markdown",
   "metadata": {},
   "source": [
    "# Step 2. Initialization"
   ]
  },
  {
   "cell_type": "code",
   "execution_count": 3,
   "metadata": {},
   "outputs": [],
   "source": [
    "def initialize_greedy(coord_list, first_idx):\n",
    "    cnt_cities = len(coord_list)\n",
    "    # Initialize path and insert first city index to the first and last elements\n",
    "    path = np.zeros(cnt_cities + 1, dtype=np.int)\n",
    "    path[0], path[-1] = first_idx, first_idx\n",
    "\n",
    "    # Euclidean distance map between cities\n",
    "    path_map = euclidean_distances(coord_list, coord_list)\n",
    "\n",
    "    cities_tovisit = np.ones((cnt_cities), dtype=np.bool)\n",
    "    cities_tovisit[first_idx] = False\n",
    "\n",
    "    # Iteratively Connect nearest cities\n",
    "    for i in range(1, cnt_cities):\n",
    "        start_idx = path[i - 1]\n",
    "        distance_from_start = path_map[start_idx, :]\n",
    "        nearest_list = np.argsort(distance_from_start)\n",
    "        for idx in range(cnt_cities):\n",
    "            # check the nearest city is visited\n",
    "            if cities_tovisit[nearest_list[idx]]:\n",
    "                nearest_city = nearest_list[idx]\n",
    "                break\n",
    "        cities_tovisit[nearest_city] = False\n",
    "        path[i] = nearest_city\n",
    "\n",
    "    return path_map, path\n",
    "\n",
    "\n",
    "def initialize_random(coord_list, first_idx):\n",
    "    cnt_cities = len(coord_list)\n",
    "    path = np.zeros(cnt_cities + 1, dtype=np.int)\n",
    "\n",
    "    path[0], path[-1] = first_idx, first_idx\n",
    "    # Euclidean distance map between cities\n",
    "    path_map = euclidean_distances(coord_list, coord_list)\n",
    "\n",
    "    # city indices without first city index\n",
    "    cities_tovisit = np.delete(np.arange(cnt_cities), first_idx)\n",
    "    cities_random = np.random.permutation(cities_tovisit)\n",
    "    path[1:-1] = cities_random\n",
    "\n",
    "    return path_map, path\n",
    "\n",
    "def path_cost(path_map, path):\n",
    "    # The array of cost between cities in the path\n",
    "    cnt_cities = path_map.shape[0]\n",
    "    cost_arr = np.zeros(cnt_cities)\n",
    "    for i in range(cnt_cities):\n",
    "        cost_arr[i] = path_map[path[i], path[i+1]]\n",
    "\n",
    "    return cost_arr"
   ]
  },
  {
   "cell_type": "markdown",
   "metadata": {},
   "source": [
    "# Step 3. Searching a path\n",
    "\n",
    "## Algorithm 2. Hill Climbing (2-opt search)"
   ]
  },
  {
   "cell_type": "code",
   "execution_count": 4,
   "metadata": {
    "scrolled": true
   },
   "outputs": [],
   "source": [
    "def two_opt(path_map, path, iterations, coord_list):\n",
    "    cnt_cities = path_map.shape[0]\n",
    "    # Save the best path\n",
    "\n",
    "    cost_arr = path_cost(path_map, path)\n",
    "    best_path = path.copy()\n",
    "    best_cost = cost_arr.sum()\n",
    "    \n",
    "    # Draw Initial Route\n",
    "    if PLOT_MODE:\n",
    "        plt.close()\n",
    "        figure, ax = plt.subplots()\n",
    "        plt.scatter(coord_list[:, 0], coord_list[:, 1], c='yellow', s=10)\n",
    "        plt.title('City Route')\n",
    "        coord_path = coord_list\n",
    "        coord_path = np.append(coord_path, coord_path[best_path[0], :].reshape(1, 2), axis=0)\n",
    "        coord_path[:, :] = coord_path[best_path, :]\n",
    "        lines, = ax.plot(coord_path[:, 0], coord_path[:, 1], 'k--')\n",
    "        figure.canvas.draw()\n",
    "        figure.canvas.flush_events()\n",
    "\n",
    "    for i in range(iterations):\n",
    "        curr_path = best_path.copy()\n",
    "        # Select two indices of flip points\n",
    "        sel_idx = np.sort(np.random.choice(np.arange(1, cnt_cities + 1), 2))\n",
    "\n",
    "        # Path Flip and update cost array\n",
    "        curr_path[sel_idx[0]:sel_idx[1]] = np.flip(curr_path[sel_idx[0]: sel_idx[1]])\n",
    "        cost_arr = path_cost(path_map, curr_path)\n",
    "\n",
    "        # Compare to the best path\n",
    "        curr_cost = cost_arr.sum()\n",
    "        if curr_cost < best_cost:\n",
    "            best_path = curr_path\n",
    "            best_cost = curr_cost\n",
    "        \n",
    "        # Draw Route\n",
    "        if PLOT_MODE and i % PLT_INTERVAL == 0:\n",
    "            coord_path = coord_list\n",
    "            coord_path = np.append(coord_path, coord_path[best_path[0], :].reshape(1, 2), axis=0)\n",
    "            coord_path = coord_path[best_path, :]\n",
    "\n",
    "            lines.set_data(coord_path[:, 0], coord_path[:, 1])\n",
    "\n",
    "            figure.canvas.draw()\n",
    "            figure.canvas.flush_events()\n",
    "\n",
    "    return best_path, best_cost"
   ]
  },
  {
   "cell_type": "code",
   "execution_count": 5,
   "metadata": {},
   "outputs": [],
   "source": [
    "def hill_climbing(path_map, path, coord_list):\n",
    "    best_path, best_cost = two_opt(path_map, path, SUB_ITERATIONS, coord_list)\n",
    "\n",
    "    for i in range(MAX_EVALUATION - 1):\n",
    "        curr_path = best_path.copy()\n",
    "        new_path, new_cost = two_opt(path_map, curr_path, SUB_ITERATIONS, coord_list)\n",
    "\n",
    "        if new_cost < best_cost:\n",
    "            best_path = new_path\n",
    "            best_cost = new_cost\n",
    "        else:\n",
    "            break\n",
    "\n",
    "    return best_path, best_cost"
   ]
  },
  {
   "cell_type": "markdown",
   "metadata": {},
   "source": [
    "# Main"
   ]
  },
  {
   "cell_type": "code",
   "execution_count": 6,
   "metadata": {},
   "outputs": [
    {
     "name": "stdout",
     "output_type": "stream",
     "text": [
      "Execution Time: 36.023303747177124\n",
      "Path: [0, 37, 36, 35, 34, 33, 32, 31, 30, 29, 28, 27, 26, 25, 1, 49, 70, 75, 83, 103, 153, 172, 178, 186, 215, 221, 281, 288, 289, 236, 237, 238, 239, 240, 291, 290, 317, 338, 371, 370, 337, 316, 368, 743, 744, 304, 358, 369, 604, 732, 777, 846, 855, 866, 865, 854, 874, 875, 873, 872, 942, 950, 955, 961, 970, 969, 968, 1034, 1033, 1032, 1031, 1030, 1029, 1028, 1027, 1026, 1025, 1024, 1023, 1077, 1076, 1075, 1020, 1021, 1078, 1079, 1080, 1081, 1116, 1141, 1166, 1165, 1140, 1115, 1114, 1139, 1164, 1163, 1138, 1113, 1162, 1161, 1137, 1112, 1187, 1160, 1136, 1111, 1110, 1135, 1159, 1158, 1134, 1109, 1108, 1157, 1192, 1191, 1190, 1072, 1073, 1074, 1019, 1193, 1285, 1313, 1337, 1363, 1401, 1393, 1412, 1167, 1117, 1035, 1082, 1170, 1202, 1194, 1195, 1168, 1403, 983, 984, 1010, 1011, 1012, 1013, 1014, 1015, 1016, 1017, 1018, 985, 974, 975, 976, 966, 965, 957, 951, 952, 958, 959, 953, 946, 937, 938, 939, 947, 960, 967, 964, 948, 954, 949, 941, 940, 920, 919, 918, 917, 916, 915, 914, 913, 912, 911, 910, 909, 908, 907, 887, 906, 905, 886, 885, 904, 903, 884, 883, 902, 901, 881, 900, 936, 935, 934, 933, 899, 898, 880, 897, 932, 931, 896, 895, 930, 928, 894, 893, 927, 926, 892, 891, 925, 924, 923, 890, 889, 780, 835, 870, 876, 882, 929, 977, 956, 986, 987, 988, 989, 990, 991, 992, 993, 994, 995, 978, 996, 997, 1101, 1066, 1065, 1102, 1129, 1152, 1186, 1151, 1128, 1127, 1150, 1185, 1205, 1200, 1199, 1203, 1267, 1382, 1348, 1300, 1299, 1298, 1381, 1380, 1404, 1379, 1324, 1347, 1378, 1377, 1346, 1323, 1322, 1345, 1376, 1398, 1373, 1319, 1320, 1343, 1374, 1375, 1344, 1321, 1293, 1294, 1295, 1296, 1297, 1265, 1264, 1263, 1262, 1261, 1260, 1259, 1258, 1257, 1256, 1255, 1254, 1253, 1252, 1251, 1250, 1171, 1169, 1206, 1204, 1198, 1177, 1092, 1060, 1022, 1083, 1084, 1085, 1037, 1087, 1088, 1046, 1045, 1044, 1043, 1042, 1041, 1040, 1039, 1038, 1086, 1172, 1142, 1118, 1119, 1143, 1173, 1174, 1144, 1120, 1121, 1175, 1197, 1196, 1188, 1122, 1145, 1176, 1178, 1146, 1123, 1091, 1090, 1089, 1047, 1048, 1049, 1050, 1051, 1093, 1094, 1095, 1181, 1147, 1124, 1125, 1148, 1182, 1183, 1149, 1126, 1098, 1097, 1096, 1052, 1053, 1054, 1055, 1056, 1057, 1058, 1059, 1099, 1100, 1061, 1062, 1063, 1064, 999, 1000, 1001, 1002, 1003, 1004, 1005, 1067, 1068, 1006, 1007, 1008, 1009, 1069, 1070, 1071, 1107, 1133, 1106, 1132, 1105, 1156, 1131, 1104, 1103, 1130, 1155, 1154, 1189, 1274, 1273, 1272, 1387, 1405, 1455, 1515, 1569, 1537, 1568, 1567, 1536, 1504, 1454, 1453, 1452, 1451, 1450, 1481, 1480, 1484, 1479, 1478, 1477, 1476, 1475, 1474, 1449, 1448, 1447, 1446, 1445, 1444, 1443, 1442, 1441, 1440, 1439, 1438, 1472, 1471, 1470, 1437, 1434, 1457, 1482, 1502, 1514, 1503, 1505, 1487, 1522, 1541, 1564, 1595, 1577, 1586, 1587, 1588, 1589, 1590, 1591, 1592, 1593, 1594, 1596, 1597, 1598, 1570, 1571, 1572, 1573, 1574, 1575, 1576, 1578, 1579, 1580, 1585, 1584, 1583, 1582, 1581, 1550, 1527, 1497, 1528, 1551, 1538, 1552, 1553, 1554, 1555, 1469, 1468, 1483, 1467, 1466, 1436, 1435, 1433, 1432, 1465, 1431, 1430, 1464, 1511, 1496, 1526, 1549, 1548, 1546, 1461, 1490, 1508, 1521, 1523, 1491, 1492, 1524, 1547, 1525, 1509, 1493, 1494, 1510, 1495, 1463, 1462, 1429, 1428, 1427, 1426, 1425, 1424, 1423, 1422, 1421, 1420, 1419, 1418, 1460, 1459, 1417, 1416, 1415, 1414, 1413, 1458, 1542, 1543, 1545, 1544, 1520, 1489, 1519, 1518, 1507, 1488, 1486, 1517, 1516, 1506, 1485, 1456, 1406, 1407, 1408, 1409, 1410, 1411, 1389, 1390, 1400, 1392, 1391, 1357, 1356, 1307, 1355, 1354, 1331, 1306, 1305, 1330, 1353, 1352, 1329, 1304, 1303, 1351, 1326, 1349, 1383, 1384, 1350, 1327, 1271, 1302, 1268, 1269, 1270, 1209, 1210, 1211, 1212, 1213, 1214, 1215, 1216, 1217, 1218, 1219, 1220, 1221, 1222, 1223, 1276, 1277, 1278, 1224, 1225, 1281, 1280, 1228, 1227, 1226, 1279, 1358, 1332, 1309, 1310, 1333, 1359, 1360, 1385, 1311, 1335, 1361, 1362, 1336, 1312, 1284, 1283, 1282, 1229, 1230, 1231, 1232, 1233, 1234, 1235, 1236, 1237, 1238, 1239, 1290, 1291, 1292, 1248, 1247, 1246, 1245, 1244, 1243, 1242, 1241, 1240, 1287, 1288, 1289, 1397, 1396, 1395, 1364, 1315, 1365, 1338, 1366, 1367, 1339, 1316, 1340, 1368, 1369, 1341, 1317, 1318, 1342, 1371, 1402, 1372, 1249, 1207, 998, 1036, 973, 972, 971, 962, 963, 945, 944, 943, 922, 921, 888, 867, 868, 839, 837, 836, 834, 833, 832, 831, 806, 805, 830, 829, 800, 801, 802, 803, 804, 775, 765, 764, 763, 730, 731, 532, 567, 555, 554, 530, 434, 477, 476, 411, 361, 334, 312, 313, 335, 362, 363, 336, 314, 283, 315, 364, 396, 365, 367, 366, 397, 398, 399, 406, 435, 480, 479, 478, 534, 533, 568, 603, 654, 653, 652, 602, 601, 651, 650, 649, 753, 790, 789, 788, 840, 847, 856, 857, 858, 848, 841, 842, 849, 859, 877, 878, 879, 871, 843, 850, 860, 861, 844, 851, 862, 869, 852, 863, 864, 853, 845, 838, 828, 827, 826, 799, 798, 825, 824, 797, 796, 795, 794, 793, 792, 791, 823, 822, 821, 820, 787, 786, 785, 784, 783, 782, 781, 779, 819, 774, 551, 470, 549, 553, 526, 473, 391, 390, 389, 413, 414, 415, 416, 418, 419, 468, 469, 420, 421, 422, 423, 424, 425, 426, 472, 471, 495, 511, 525, 524, 510, 494, 493, 509, 523, 566, 552, 522, 521, 508, 492, 491, 520, 548, 564, 546, 506, 547, 519, 507, 490, 467, 466, 465, 464, 463, 462, 461, 378, 343, 322, 200, 199, 198, 197, 246, 245, 244, 243, 242, 241, 196, 195, 193, 194, 91, 90, 131, 132, 134, 133, 92, 93, 95, 94, 135, 136, 138, 137, 96, 97, 100, 99, 81, 98, 139, 140, 141, 142, 102, 143, 101, 82, 2, 3, 5, 4, 106, 107, 87, 86, 85, 84, 104, 105, 188, 187, 185, 204, 203, 202, 184, 201, 258, 259, 303, 260, 261, 262, 263, 264, 265, 266, 267, 305, 268, 271, 270, 269, 205, 206, 207, 208, 209, 210, 211, 212, 213, 190, 189, 219, 218, 217, 216, 214, 272, 273, 274, 275, 276, 277, 278, 220, 191, 174, 163, 154, 164, 158, 155, 144, 76, 77, 78, 79, 24, 69, 89, 170, 171, 152, 151, 150, 130, 149, 157, 162, 169, 183, 192, 235, 287, 286, 285, 284, 234, 233, 232, 231, 230, 229, 228, 282, 280, 224, 225, 226, 227, 177, 168, 173, 123, 124, 147, 148, 125, 126, 127, 128, 129, 80, 74, 73, 72, 71, 58, 66, 68, 67, 59, 45, 23, 48, 47, 46, 22, 21, 20, 19, 18, 44, 43, 42, 65, 64, 39, 38, 6, 7, 8, 9, 10, 11, 41, 17, 16, 15, 14, 13, 12, 40, 63, 57, 53, 52, 56, 62, 61, 55, 51, 50, 54, 60, 88, 108, 109, 110, 111, 112, 113, 114, 115, 116, 117, 118, 119, 120, 121, 122, 145, 146, 156, 161, 167, 165, 159, 160, 166, 176, 175, 182, 181, 180, 179, 222, 223, 279, 333, 359, 394, 410, 433, 529, 514, 496, 512, 527, 528, 513, 497, 474, 475, 432, 431, 430, 429, 428, 427, 405, 393, 392, 357, 356, 355, 354, 332, 311, 310, 331, 353, 352, 330, 309, 308, 351, 350, 329, 307, 306, 328, 349, 388, 387, 386, 348, 327, 326, 347, 385, 409, 408, 404, 384, 382, 381, 346, 325, 324, 345, 380, 379, 344, 323, 298, 299, 301, 302, 257, 256, 255, 254, 253, 252, 251, 250, 297, 296, 295, 249, 248, 247, 294, 293, 292, 372, 339, 318, 319, 340, 373, 374, 341, 320, 321, 342, 376, 377, 403, 402, 449, 448, 447, 446, 445, 444, 443, 436, 531, 417, 489, 484, 540, 559, 563, 565, 661, 740, 687, 710, 750, 754, 729, 677, 695, 668, 638, 645, 605, 606, 655, 656, 608, 607, 569, 556, 557, 739, 768, 738, 684, 659, 617, 616, 615, 614, 613, 612, 611, 610, 609, 657, 658, 683, 707, 737, 736, 706, 682, 681, 735, 705, 704, 734, 767, 766, 807, 808, 809, 810, 811, 812, 778, 813, 814, 815, 816, 818, 817, 776, 773, 772, 771, 770, 769, 749, 686, 742, 741, 708, 685, 660, 618, 619, 620, 621, 622, 623, 624, 662, 663, 664, 665, 667, 666, 745, 709, 688, 689, 711, 746, 747, 690, 691, 712, 748, 713, 714, 669, 715, 751, 716, 692, 670, 672, 694, 718, 717, 693, 671, 640, 641, 642, 673, 719, 752, 720, 674, 675, 721, 755, 756, 757, 758, 759, 760, 761, 762, 728, 680, 703, 679, 702, 678, 701, 727, 726, 700, 699, 725, 724, 698, 697, 723, 722, 696, 676, 643, 644, 646, 647, 648, 600, 599, 598, 597, 596, 595, 594, 593, 592, 591, 590, 589, 588, 587, 586, 585, 584, 583, 582, 581, 580, 579, 578, 577, 576, 575, 574, 573, 572, 639, 637, 636, 635, 571, 634, 633, 632, 631, 630, 629, 628, 627, 626, 625, 570, 562, 505, 545, 561, 560, 558, 541, 503, 542, 550, 543, 544, 518, 504, 488, 460, 459, 458, 457, 456, 455, 487, 486, 485, 454, 453, 452, 451, 450, 483, 482, 502, 517, 539, 538, 516, 501, 500, 537, 499, 536, 535, 515, 498, 481, 437, 438, 439, 440, 441, 442, 412, 407, 401, 400, 395, 360, 300, 375, 383, 733, 1386, 1399, 1388, 1394, 1286, 1275, 1301, 1325, 1328, 1308, 1334, 1314, 1370, 1473, 1560, 1559, 1530, 1529, 1556, 1557, 1558, 1531, 1498, 1499, 1512, 1532, 1533, 1500, 1501, 1513, 1534, 1535, 1539, 1566, 1565, 1563, 1562, 1561, 1540, 1266, 1208, 1179, 1180, 1184, 1201, 1153, 979, 980, 981, 982, 0]\n",
      "Cost: 6924.622349070102\n"
     ]
    }
   ],
   "source": [
    "# Initialization ###############\n",
    "initialize = initialize_greedy\n",
    "#initialize = initialize_random\n",
    "################################\n",
    "\n",
    "# Step 1\n",
    "try:\n",
    "    coord_list = fileloader()\n",
    "except Exception as e:\n",
    "    print('예외 발생', e)\n",
    "    sys.exit()\n",
    "\n",
    "start_time = time.time()\n",
    "# Step 2\n",
    "path_map, path = initialize(coord_list, FIRST_IDX)\n",
    "\n",
    "# Step 3\n",
    "best_path, best_cost = hill_climbing(path_map, path, coord_list)\n",
    "\n",
    "print('Execution Time: ' + str(time.time() - start_time))\n",
    "print('Path: ' + str(best_path.tolist()))\n",
    "print('Cost: ' + str(best_cost))"
   ]
  },
  {
   "cell_type": "code",
   "execution_count": null,
   "metadata": {},
   "outputs": [],
   "source": []
  }
 ],
 "metadata": {
  "kernelspec": {
   "display_name": "Python 3",
   "language": "python",
   "name": "python3"
  },
  "language_info": {
   "codemirror_mode": {
    "name": "ipython",
    "version": 3
   },
   "file_extension": ".py",
   "mimetype": "text/x-python",
   "name": "python",
   "nbconvert_exporter": "python",
   "pygments_lexer": "ipython3",
   "version": "3.7.6"
  }
 },
 "nbformat": 4,
 "nbformat_minor": 4
}
