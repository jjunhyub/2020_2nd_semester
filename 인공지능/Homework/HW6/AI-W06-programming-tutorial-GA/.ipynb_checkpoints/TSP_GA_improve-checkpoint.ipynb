{
 "cells": [
  {
   "cell_type": "markdown",
   "metadata": {},
   "source": [
    "<hr style=\"border:2px solid gray\"> </hr>\n",
    "\n",
    "# Homework 1 - Traveling Salesman Problem\n",
    "\n",
    "## Example Code\n",
    "\n",
    "### Algorithm 4: Genetic Algorithm\n",
    "\n",
    "### Author: Wangduk Seo (CAU AI Lab)\n",
    "<hr style=\"border:2px solid gray\"> </hr>"
   ]
  },
  {
   "cell_type": "markdown",
   "metadata": {},
   "source": [
    "# Step 0. Importing packages and Global Settings"
   ]
  },
  {
   "cell_type": "code",
   "execution_count": 1,
   "metadata": {},
   "outputs": [],
   "source": [
    "# package list\n",
    "import tkinter as tk\n",
    "from tkinter import filedialog\n",
    "import numpy as np\n",
    "import sys\n",
    "from sklearn.metrics.pairwise import euclidean_distances\n",
    "import matplotlib.pyplot as plt\n",
    "import time\n",
    "\n",
    "# Global Variables\n",
    "# Genetic Algorithm\n",
    "POOL_SIZE = 100\n",
    "MUTATION_RATIO = 0.03\n",
    "MUTATION_ITER = int(POOL_SIZE * MUTATION_RATIO)\n",
    "RANDOM_RATIO = 0.1\n",
    "ACCEPT_RATIO = 0.3\n",
    "ITERATIONS = 20000\n",
    "K = 10\n",
    "np.random.seed(0)\n",
    "\n",
    "# Plot Settings\n",
    "PLOT_MODE = True # Draw Route\n",
    "PLT_INTERVAL = 100 # Draw Route every 100 iterations\n",
    "plt.ion()\n",
    "\n",
    "# First City Index\n",
    "FIRST_IDX = 0"
   ]
  },
  {
   "cell_type": "markdown",
   "metadata": {},
   "source": [
    "# Step 1. Data Loading"
   ]
  },
  {
   "cell_type": "code",
   "execution_count": 2,
   "metadata": {},
   "outputs": [],
   "source": [
    "def fileloader():\n",
    "    # Data loading\n",
    "    root = tk.Tk()\n",
    "    root.withdraw()\n",
    "\n",
    "    file_path = filedialog.askopenfilename()\n",
    "    if file_path == '':\n",
    "        raise Exception('Cannot load a data file')\n",
    "    root.destroy()\n",
    "    #     Data Format\n",
    "    #     ---------------------------------------------------------\n",
    "    #     NAME : pia3056\n",
    "    #     COMMENT : Bonn VLSI data set with 3056 points\n",
    "    #     COMMENT : Uni Bonn, Research Institute for Discrete Math\n",
    "    #     COMMENT : Contributed by Andre Rohe\n",
    "    #     TYPE : TSP\n",
    "    #     DIMENSION : 3056 -----------------------------|\n",
    "    #     EDGE_WEIGHT_TYPE : EUC_2D                     |\n",
    "    #     NODE_COORD_SECTION                            |\n",
    "    #     1 0 11 (2 dimentional coordinate of city)     |\n",
    "    #     2 0 115                                       |\n",
    "    #     ...                                           |\n",
    "    #     ...(Total 3056 nodes)<------------------------|\n",
    "    #     EOF\n",
    "    #     ---------------------------------------------------------\n",
    "    with open(file_path, \"r\") as file:\n",
    "        file_str = file.readlines()\n",
    "\n",
    "    # Get the coordinates of cities\n",
    "    coord_str = file_str[8:-1]  # first city string to last city string (EOF 전까지)\n",
    "    coord_list = np.zeros((len(coord_str), 2))\n",
    "    for idx, item in enumerate(coord_str):\n",
    "        coord_split = item.split()\n",
    "        coord_list[idx, 0] = int(coord_split[1])\n",
    "        coord_list[idx, 1] = int(coord_split[2])\n",
    "\n",
    "    return coord_list"
   ]
  },
  {
   "cell_type": "markdown",
   "metadata": {},
   "source": [
    "# Step 2. Initialization"
   ]
  },
  {
   "cell_type": "code",
   "execution_count": 3,
   "metadata": {},
   "outputs": [],
   "source": [
    "def path_cost(path_map, path):\n",
    "    # The array of cost between cities in the path\n",
    "    cnt_cities = path_map.shape[0]\n",
    "    cost_arr = np.zeros(cnt_cities)\n",
    "    for i in range(cnt_cities):\n",
    "        cost_arr[i] = path_map[path[i], path[i+1]]\n",
    "\n",
    "    return cost_arr\n",
    "\n",
    "\n",
    "def initialize_greedy(coord_list, first_idx):\n",
    "    cnt_cities = len(coord_list)\n",
    "    # Initialize path and insert first city index to the first and last elements\n",
    "    path = np.zeros(cnt_cities + 1, dtype=np.int)\n",
    "    path[0], path[-1] = first_idx, first_idx\n",
    "\n",
    "    # Euclidean distance map between cities\n",
    "    path_map = euclidean_distances(coord_list, coord_list)\n",
    "\n",
    "    cities_tovisit = np.ones((cnt_cities), dtype=np.bool)\n",
    "    cities_tovisit[first_idx] = False\n",
    "\n",
    "    # Iteratively Connect nearest cities\n",
    "    for i in range(1, cnt_cities):\n",
    "        start_idx = path[i - 1]\n",
    "        distance_from_start = path_map[start_idx, :]\n",
    "        nearest_list = np.argsort(distance_from_start)\n",
    "        for idx in range(len(nearest_list)):\n",
    "            # check the nearest city is visited\n",
    "            if cities_tovisit[nearest_list[idx]]:\n",
    "                nearest_city = nearest_list[idx]\n",
    "                break\n",
    "        cities_tovisit[nearest_city] = False\n",
    "        path[i] = nearest_city\n",
    "\n",
    "    return path_map, path\n",
    "\n",
    "\n",
    "def initialize_random(coord_list, first_idx):\n",
    "    cnt_cities = len(coord_list)\n",
    "    path = np.zeros(cnt_cities + 1, dtype=np.int)\n",
    "\n",
    "    path[0], path[-1] = first_idx, first_idx\n",
    "    # Euclidean distance map between cities\n",
    "    path_map = euclidean_distances(coord_list, coord_list)\n",
    "\n",
    "    # city indices without first city index\n",
    "    cities_tovisit = np.delete(np.arange(cnt_cities), first_idx)\n",
    "    cities_random = np.random.permutation(cities_tovisit)\n",
    "    path[1:-1] = cities_random\n",
    "\n",
    "    return path_map, path\n",
    "\n",
    "\n",
    "def two_opt_swap(path_map, path, steps):\n",
    "    cnt_cities = path_map.shape[0]\n",
    "    curr_path = path.copy()\n",
    "    for i in range(steps):\n",
    "        # Select two indices for flip points\n",
    "        sel_idx = np.sort(np.random.choice(np.arange(1, cnt_cities + 1), 2))\n",
    "        if sel_idx[1] - sel_idx[0] <= 1:\n",
    "            continue\n",
    "        # Path Flip and update cost array\n",
    "        curr_path[sel_idx[0]:sel_idx[1]] = np.flip(curr_path[sel_idx[0]: sel_idx[1]])\n",
    "\n",
    "    cost_arr = path_cost(path_map, curr_path)\n",
    "    curr_cost = cost_arr.sum()\n",
    "\n",
    "    return curr_path, curr_cost\n",
    "\n",
    "\n",
    "def initialization(coord_list):\n",
    "    # Greedy Search + two_opt + random\n",
    "    cnt_cities = len(coord_list)\n",
    "    path_pool = np.zeros((POOL_SIZE, cnt_cities + 1), dtype=np.int)\n",
    "    pool_cost = np.zeros(POOL_SIZE)\n",
    "    num_random = int(POOL_SIZE * RANDOM_RATIO)\n",
    "\n",
    "    path_map, path_pool[0, :] = initialize_greedy(coord_list, FIRST_IDX)\n",
    "    pool_cost[0] = path_cost(path_map, path_pool[0, :]).sum()\n",
    "    for i in range(1, num_random + 1):\n",
    "        _, path_pool[i, :] = initialize_random(coord_list, FIRST_IDX)\n",
    "        pool_cost[i] = path_cost(path_map, path_pool[i, :]).sum()\n",
    "\n",
    "    for i in range(num_random + 1, POOL_SIZE):\n",
    "        path_pool[i, :], pool_cost[i] = two_opt_swap(path_map, path_pool[0, :], np.random.randint(10, 25))\n",
    "\n",
    "    return path_map, path_pool, pool_cost"
   ]
  },
  {
   "cell_type": "markdown",
   "metadata": {},
   "source": [
    "# Step 3. Selection\n",
    "## Tournament Selection"
   ]
  },
  {
   "cell_type": "code",
   "execution_count": 4,
   "metadata": {},
   "outputs": [],
   "source": [
    "def selection(pool_cost, k):\n",
    "    # tournament selection\n",
    "    selected_indices = np.random.permutation(POOL_SIZE)\n",
    "    selected_indices = selected_indices[:k]\n",
    "\n",
    "    selected_cost = pool_cost[selected_indices]\n",
    "    sorted_indices = np.argsort(selected_cost)\n",
    "\n",
    "    indices = selected_indices[sorted_indices[:2]]\n",
    "\n",
    "    return indices"
   ]
  },
  {
   "cell_type": "markdown",
   "metadata": {},
   "source": [
    "# Step 4. Crossover\n",
    "## PMX Crossover"
   ]
  },
  {
   "cell_type": "code",
   "execution_count": 5,
   "metadata": {},
   "outputs": [],
   "source": [
    "def crossover(path1, path2):\n",
    "    # pmx crossover\n",
    "    path_size = len(path1) - 1\n",
    "    plist1 = np.zeros(path_size, dtype=np.int)\n",
    "    plist2 = np.zeros(path_size, dtype=np.int)\n",
    "\n",
    "    child1 = path1.copy()\n",
    "    child2 = path2.copy()\n",
    "\n",
    "    for i in range(path_size):\n",
    "        plist1[child1[i]] = i\n",
    "        plist2[child2[i]] = i\n",
    "\n",
    "    sel_idx = np.random.randint(1, path_size, size=2)\n",
    "    if sel_idx[0] > sel_idx[1]:\n",
    "        sel_idx[0], sel_idx[1] = sel_idx[1], sel_idx[0]\n",
    "\n",
    "    for i in range(sel_idx[0], sel_idx[1]):\n",
    "        # Swap Points\n",
    "        temp1, temp2 = child1[i], child2[i]\n",
    "        child1[i], child1[plist1[temp2]] = temp2, temp1\n",
    "        child2[i], child2[plist2[temp1]] = temp1, temp2\n",
    "        plist1[temp1], plist1[temp2] = plist1[temp2], plist1[temp1]\n",
    "        plist2[temp1], plist2[temp2] = plist2[temp2], plist2[temp1]\n",
    "\n",
    "    return child1, child2"
   ]
  },
  {
   "cell_type": "markdown",
   "metadata": {},
   "source": [
    "# Step 5. Mutation\n",
    "## Swap Mutation"
   ]
  },
  {
   "cell_type": "code",
   "execution_count": 6,
   "metadata": {},
   "outputs": [],
   "source": [
    "def mutation(path, path_map):\n",
    "    # Swap mutation\n",
    "    path_size = len(path) - 1\n",
    "    sel_idx = np.random.randint(1, path_size, size=2)\n",
    "    child = path.copy()\n",
    "    child[sel_idx[0]], child[sel_idx[1]] = child[sel_idx[1]], child[sel_idx[0]]\n",
    "    cost1 = path_cost(path_map, path).sum()\n",
    "    cost2 = path_cost(path_map, child).sum()\n",
    "    \n",
    "    if cost1 < cost2 :\n",
    "        if ACCEPT_RATIO > np.random.rand(1):\n",
    "            return child\n",
    "        else :\n",
    "            return path\n",
    "    else : \n",
    "        if ACCEPT_RATIO > np.random.rand(1):\n",
    "            return path\n",
    "        else :\n",
    "            return child"
   ]
  },
  {
   "cell_type": "markdown",
   "metadata": {},
   "source": [
    "# Step 6. Searching a path\n",
    "\n",
    "## Algorithm 4. GA"
   ]
  },
  {
   "cell_type": "code",
   "execution_count": 7,
   "metadata": {
    "scrolled": true
   },
   "outputs": [],
   "source": [
    "def ga_search(coord_list):\n",
    "    # Initialization\n",
    "    path_map, path_pool, pool_cost = initialization(coord_list)\n",
    "\n",
    "    for i in range(ITERATIONS):\n",
    "        sort_cost = np.argsort(pool_cost)\n",
    "        path_pool = path_pool[sort_cost, :]\n",
    "        pool_cost = pool_cost[sort_cost]\n",
    "\n",
    "        # Selection\n",
    "        indices = selection(pool_cost, K)\n",
    "        # Crossover\n",
    "        child1, child2 = crossover(path_pool[indices[0], :], path_pool[indices[1], :])\n",
    "        \n",
    "        path_pool[-1, :], pool_cost[-1] = child1, path_cost(path_map, child1).sum()\n",
    "        path_pool[-2, :], pool_cost[-2] = child2, path_cost(path_map, child2).sum()\n",
    "        \n",
    "        # Mutation\n",
    "        for j in range(MUTATION_ITER):\n",
    "            sort_cost = np.argsort(pool_cost)\n",
    "            path_pool = path_pool[sort_cost, :]\n",
    "            pool_cost = pool_cost[sort_cost]\n",
    "            child3 = mutation(path_pool[indices[0], :],path_map)\n",
    "            path_pool[-3, :], pool_cost[-3] = child3, path_cost(path_map, child3).sum()\n",
    "\n",
    "    sort_cost = np.argsort(pool_cost)\n",
    "    path_pool = path_pool[sort_cost, :]\n",
    "    pool_cost = pool_cost[sort_cost]\n",
    "\n",
    "    return path_pool[0], pool_cost[0]"
   ]
  },
  {
   "cell_type": "markdown",
   "metadata": {},
   "source": [
    "# Main"
   ]
  },
  {
   "cell_type": "code",
   "execution_count": 8,
   "metadata": {},
   "outputs": [
    {
     "name": "stdout",
     "output_type": "stream",
     "text": [
      "Execution Time: 66.36847972869873\n",
      "Path: [0, 5, 13, 14, 15, 16, 24, 17, 12, 4, 11, 6, 7, 1, 2, 8, 9, 3, 10, 23, 41, 40, 39, 38, 37, 36, 35, 34, 33, 32, 31, 30, 29, 28, 27, 26, 25, 18, 19, 20, 21, 22, 42, 43, 60, 59, 58, 57, 56, 55, 50, 51, 49, 48, 47, 46, 54, 53, 45, 44, 52, 73, 63, 67, 74, 76, 77, 80, 81, 86, 87, 91, 93, 98, 101, 100, 99, 104, 105, 106, 112, 107, 114, 127, 118, 115, 119, 116, 121, 128, 130, 126, 125, 124, 123, 120, 117, 113, 129, 122, 111, 97, 92, 88, 68, 64, 61, 65, 69, 62, 66, 70, 75, 78, 82, 83, 84, 85, 79, 71, 72, 90, 89, 94, 95, 96, 103, 102, 110, 109, 108, 0]\n",
      "Cost: 672.2995695291834\n"
     ]
    },
    {
     "data": {
      "image/png": "[encoded data removed]",
      "text/plain": [
       "<Figure size 432x288 with 1 Axes>"
      ]
     },
     "metadata": {
      "needs_background": "light"
     },
     "output_type": "display_data"
    }
   ],
   "source": [
    "try:\n",
    "    coord_list = fileloader()\n",
    "except Exception as e:\n",
    "    print('예외 발생', e)\n",
    "    sys.exit()\n",
    "\n",
    "start_time = time.time()\n",
    "\n",
    "best_path, best_cost = ga_search(coord_list)\n",
    "\n",
    "if PLOT_MODE:\n",
    "    figure, ax = plt.subplots()\n",
    "    plt.scatter(coord_list[:, 0], coord_list[:, 1], c='yellow', s=10)\n",
    "    plt.title('City Route')\n",
    "    coord_path = coord_list\n",
    "    coord_path = np.append(coord_path, coord_path[best_path[0], :].reshape(1, 2), axis=0)\n",
    "    coord_path[:, :] = coord_path[best_path, :]\n",
    "    lines, = ax.plot(coord_path[:, 0], coord_path[:, 1], 'k--')\n",
    "    figure.canvas.draw()\n",
    "\n",
    "print('Execution Time: ' + str(time.time() - start_time))\n",
    "print('Path: ' + str(best_path.tolist()))\n",
    "print('Cost: ' + str(best_cost))"
   ]
  },
  {
   "cell_type": "code",
   "execution_count": null,
   "metadata": {},
   "outputs": [],
   "source": []
  }
 ],
 "metadata": {
  "kernelspec": {
   "display_name": "Python 3",
   "language": "python",
   "name": "python3"
  },
  "language_info": {
   "codemirror_mode": {
    "name": "ipython",
    "version": 3
   },
   "file_extension": ".py",
   "mimetype": "text/x-python",
   "name": "python",
   "nbconvert_exporter": "python",
   "pygments_lexer": "ipython3",
   "version": "3.7.6"
  }
 },
 "nbformat": 4,
 "nbformat_minor": 4
}
